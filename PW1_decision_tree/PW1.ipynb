{
  "cells": [
    {
      "cell_type": "code",
      "execution_count": 5,
      "metadata": {
        "id": "eMoE7990BCra"
      },
      "outputs": [],
      "source": [
        "#Importing the necessary libraries\n",
        "import numpy as np\n",
        "import pandas as pd\n",
        "import matplotlib.pyplot as plt\n",
        "from pprint import pprint\n",
        "\n",
        "# Defining the file name\n",
        "FILENAME = 'iris.csv'"
      ]
    },
    {
      "cell_type": "code",
      "execution_count": 6,
      "metadata": {
        "id": "Zvh40P7OBel_"
      },
      "outputs": [],
      "source": [
        "# Defining the class IrisSpeciesDecisionTree\n",
        "class IrisSpeciesDecisionTree:\n",
        "    def __init__(self, groupsCount: int = 3):\n",
        "        \"\"\"\n",
        "        Initializes the IrisSpeciesDecisionTree class with the specified number of groups.\n",
        "        \n",
        "        Parameters:\n",
        "        - groupsCount: Number of groups to divide the data into.\n",
        "        \"\"\"\n",
        "        self.df = IrisSpeciesDecisionTree.importData(FILENAME)\n",
        "        self.speciesNames = set(self.df['Species'])\n",
        "        self.groupsCount = groupsCount\n",
        "\n",
        "    @staticmethod\n",
        "    def importData(filename: str) -> pd.DataFrame:\n",
        "        \"\"\"\n",
        "        Static method to import data from a CSV file into a pandas DataFrame.\n",
        "        \n",
        "        Parameters:\n",
        "        - filename: Name of the CSV file containing the data.\n",
        "        \n",
        "        Returns:\n",
        "        - Pandas DataFrame containing the imported data.\n",
        "        \"\"\"\n",
        "        dataframe: pd.DataFrame = pd.read_csv(filename)\n",
        "        dataframe['Species'] = np.array([x[5:] for x in dataframe['Species']])\n",
        "        return dataframe\n",
        "\n",
        "    def getCountBySpecies(self) -> pd.DataFrame:\n",
        "        \"\"\"\n",
        "        Calculates the count of each species in the dataset.\n",
        "        \n",
        "        Returns:\n",
        "        - Pandas DataFrame containing the count of each species.\n",
        "        \"\"\"\n",
        "        count = self.df.groupby('Species')['Species'].count()\n",
        "        return count\n",
        "\n",
        "    def calculateEntropy(self) -> float:\n",
        "        \"\"\"\n",
        "        Calculates the entropy of the dataset.\n",
        "        \n",
        "        Returns:\n",
        "        - Entropy value of the dataset.\n",
        "        \"\"\"\n",
        "        dfWithCounts = self.getCountBySpecies()\n",
        "        return sum(-1 * (part := species / len(self.df)) * np.log2(part)\n",
        "                   for species in dfWithCounts)\n",
        "\n",
        "    def getGroupSizes(self) -> list:\n",
        "        \"\"\"\n",
        "        Calculates the size of each group based on the number of groups specified.\n",
        "        \n",
        "        Returns:\n",
        "        - List containing the size of each group.\n",
        "        \"\"\"\n",
        "        totalCount = len(self.df)\n",
        "        groupSizes = [totalCount // self.groupsCount + (1 if i < totalCount % self.groupsCount else 0)\n",
        "                       for i in range(self.groupsCount)]\n",
        "        return groupSizes\n",
        "\n",
        "    def divideInGroups(self) -> dict:\n",
        "        \"\"\"\n",
        "        Divides the dataset into groups based on feature values.\n",
        "        \n",
        "        Returns:\n",
        "        - Dictionary containing groups for each feature.\n",
        "        \"\"\"\n",
        "        groupSizes = self.getGroupSizes()\n",
        "        featureNames = [columnName for columnName in self.df.columns if columnName.endswith('Cm')]\n",
        "        groupSets = dict()\n",
        "        for featureName in featureNames:\n",
        "            dataframeSorted = self.df.sort_values(by=featureName)\n",
        "            groups = [\n",
        "                dataframeSorted.iloc[sum(groupSizes[:i]):sum(groupSizes[:i + 1])]\n",
        "                .groupby('Species')['Species']\n",
        "                .count()\n",
        "                for i in range(self.groupsCount)\n",
        "            ]\n",
        "            groupSets[featureName] = groups\n",
        "\n",
        "        return groupSets\n",
        "    \n",
        "    def evaluateGroups(self, sets, entropyGlobal, groupSizes, decisionTree):\n",
        "        \"\"\"\n",
        "        Evaluates the groups and calculates discriminative power.\n",
        "        \n",
        "        Parameters:\n",
        "        - sets: Dictionary containing groups for each feature.\n",
        "        - entropyGlobal: Entropy value of the entire dataset.\n",
        "        - groupSizes: Size of each group.\n",
        "        - decisionTree: Instance of the IrisSpeciesDecisionTree class.\n",
        "        \n",
        "        Returns:\n",
        "        - Tuple containing discriminative powers and attributes.\n",
        "        \"\"\"\n",
        "        discriminativePowers = []\n",
        "        attrs = []\n",
        "        for key, value in sets.items():\n",
        "            entropy_i = 0\n",
        "\n",
        "            dfNew = pd.DataFrame()\n",
        "            full_group = pd.Series(dtype=float)\n",
        "            for i, group in enumerate(value):\n",
        "                entropy = 0\n",
        "                for name in decisionTree.speciesNames:\n",
        "                    full_group[name] = group.get(name, 0)\n",
        "                dfNew[f'Group {i + 1}'] = full_group\n",
        "\n",
        "                dfWithCounts = decisionTree.getCountBySpecies()\n",
        "                entropy = sum(-1 * (part := species / sum(group)) * np.log2(part)\n",
        "                                for species in group)\n",
        "\n",
        "                entropy_i += entropy\n",
        "\n",
        "            discriminative_power = entropyGlobal - groupSizes[0]/len(decisionTree.df)*entropy_i\n",
        "            discriminativePowers.append((key, discriminative_power))\n",
        "\n",
        "            dfNew = dfNew.fillna(0)\n",
        "            attrs.append(dfNew)\n",
        "\n",
        "        discriminativePowers.sort(key=lambda x: x[1], reverse=True)\n",
        "        return (discriminativePowers, attrs)"
      ]
    },
    {
      "cell_type": "code",
      "execution_count": 7,
      "metadata": {
        "id": "ngk_LW7-BtXf"
      },
      "outputs": [
        {
          "name": "stdout",
          "output_type": "stream",
          "text": [
            "1.584962500721156\n"
          ]
        }
      ],
      "source": [
        "# Create an instance of the IrisSpeciesDecisionTree class\n",
        "decisionTree = IrisSpeciesDecisionTree()\n",
        "\n",
        "# Calculate the entropy of the dataset\n",
        "entropyGlobal= decisionTree.calculateEntropy()\n",
        "print(f'{entropyGlobal}')"
      ]
    },
    {
      "cell_type": "code",
      "execution_count": 8,
      "metadata": {
        "colab": {
          "base_uri": "https://localhost:8080/",
          "height": 0
        },
        "id": "I13quff8CEpY",
        "outputId": "b60b4121-200b-42f5-9ef6-686361183c24"
      },
      "outputs": [
        {
          "name": "stdout",
          "output_type": "stream",
          "text": [
            "{'PetalLengthCm': [Species\n",
            "setosa    50\n",
            "Name: Species, dtype: int64,\n",
            "                   Species\n",
            "versicolor    47\n",
            "virginica      3\n",
            "Name: Species, dtype: int64,\n",
            "                   Species\n",
            "versicolor     3\n",
            "virginica     47\n",
            "Name: Species, dtype: int64],\n",
            " 'PetalWidthCm': [Species\n",
            "setosa    50\n",
            "Name: Species, dtype: int64,\n",
            "                  Species\n",
            "versicolor    46\n",
            "virginica      4\n",
            "Name: Species, dtype: int64,\n",
            "                  Species\n",
            "versicolor     4\n",
            "virginica     46\n",
            "Name: Species, dtype: int64],\n",
            " 'SepalLengthCm': [Species\n",
            "setosa        43\n",
            "versicolor     6\n",
            "virginica      1\n",
            "Name: Species, dtype: int64,\n",
            "                   Species\n",
            "setosa         7\n",
            "versicolor    31\n",
            "virginica     12\n",
            "Name: Species, dtype: int64,\n",
            "                   Species\n",
            "versicolor    13\n",
            "virginica     37\n",
            "Name: Species, dtype: int64],\n",
            " 'SepalWidthCm': [Species\n",
            "setosa         1\n",
            "versicolor    30\n",
            "virginica     19\n",
            "Name: Species, dtype: int64,\n",
            "                  Species\n",
            "setosa        13\n",
            "versicolor    16\n",
            "virginica     21\n",
            "Name: Species, dtype: int64,\n",
            "                  Species\n",
            "setosa        36\n",
            "versicolor     4\n",
            "virginica     10\n",
            "Name: Species, dtype: int64]}\n"
          ]
        }
      ],
      "source": [
        "# Divide the dataset into groups based on feature values\n",
        "sets = decisionTree.divideInGroups()\n",
        "pprint(sets)"
      ]
    },
    {
      "cell_type": "code",
      "execution_count": 9,
      "metadata": {
        "colab": {
          "base_uri": "https://localhost:8080/",
          "height": 0
        },
        "id": "NLcMV5FVCIYa",
        "outputId": "de58a656-3b0f-46f0-8fc1-a3049979ad75"
      },
      "outputs": [
        {
          "name": "stdout",
          "output_type": "stream",
          "text": [
            "Discr(Iris/PetalLengthCm) = 1.3666658879515052\n",
            "Discr(Iris/PetalWidthCm) = 1.3168430405863076\n",
            "Discr(Iris/SepalLengthCm) = 0.6474114469842496\n",
            "Discr(Iris/SepalWidthCm) = 0.338428336537556\n"
          ]
        }
      ],
      "source": [
        "# Get the size of each group to be used in the evaluation\n",
        "groupSizes = decisionTree.getGroupSizes()\n",
        "# Evaluate the groups and calculate discriminative power\n",
        "discriminativePowers, attrs = decisionTree.evaluateGroups(sets, entropyGlobal, groupSizes, decisionTree)\n",
        "\n",
        "# Print the discriminative power of each attribute\n",
        "for key, value in discriminativePowers:\n",
        "  print(f\"Discr(Iris/{key}) = {value}\")"
      ]
    },
    {
      "cell_type": "code",
      "execution_count": 10,
      "metadata": {
        "colab": {
          "base_uri": "https://localhost:8080/",
          "height": 0
        },
        "id": "c1EDUJfwEkfJ",
        "outputId": "d0a655a1-4f74-4a43-b3f0-a02230a41c7e"
      },
      "outputs": [
        {
          "name": "stdout",
          "output_type": "stream",
          "text": [
            "            Group 1  Group 2  Group 3\n",
            "virginica         1       12       37\n",
            "versicolor        6       31       13\n",
            "setosa           43        7        0\n",
            "\n",
            "            Group 1  Group 2  Group 3\n",
            "virginica        19       21       10\n",
            "versicolor       30       16        4\n",
            "setosa            1       13       36\n",
            "\n",
            "            Group 1  Group 2  Group 3\n",
            "virginica         0        3       47\n",
            "versicolor        0       47        3\n",
            "setosa           50        0        0\n",
            "\n",
            "            Group 1  Group 2  Group 3\n",
            "virginica         0        4       46\n",
            "versicolor        0       46        4\n",
            "setosa           50        0        0\n",
            "\n"
          ]
        }
      ],
      "source": [
        "# Print the attributes\n",
        "for atr in attrs:\n",
        "    pprint(atr)\n",
        "    print(\"\")"
      ]
    }
  ],
  "metadata": {
    "colab": {
      "provenance": []
    },
    "kernelspec": {
      "display_name": "Python 3",
      "name": "python3"
    },
    "language_info": {
      "codemirror_mode": {
        "name": "ipython",
        "version": 3
      },
      "file_extension": ".py",
      "mimetype": "text/x-python",
      "name": "python",
      "nbconvert_exporter": "python",
      "pygments_lexer": "ipython3",
      "version": "3.9.1"
    }
  },
  "nbformat": 4,
  "nbformat_minor": 0
}
