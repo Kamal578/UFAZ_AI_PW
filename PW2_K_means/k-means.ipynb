{
 "cells": [
  {
   "cell_type": "markdown",
   "id": "a85bb9bb7fa3883e",
   "metadata": {
    "collapsed": false
   },
   "source": [
    "# Artificial Intelligence PW2 - K-Means Clustering"
   ]
  },
  {
   "cell_type": "markdown",
   "id": "af9395b199a14fc4",
   "metadata": {
    "collapsed": false
   },
   "source": [
    "## By Murad Mustafayev & Kamal Ahmadov"
   ]
  },
  {
   "cell_type": "code",
   "execution_count": 1,
   "id": "initial_id",
   "metadata": {
    "ExecuteTime": {
     "end_time": "2024-03-04T08:03:17.010166Z",
     "start_time": "2024-03-04T08:03:16.507683Z"
    },
    "collapsed": true
   },
   "outputs": [],
   "source": [
    "# Importing necessary libraries\n",
    "import  numpy as np\n",
    "import pandas as pd\n",
    "%matplotlib inline"
   ]
  },
  {
   "cell_type": "code",
   "execution_count": 2,
   "id": "d3188d8271cce775",
   "metadata": {
    "ExecuteTime": {
     "end_time": "2024-03-04T08:03:17.022210Z",
     "start_time": "2024-03-04T08:03:17.011497Z"
    },
    "collapsed": false
   },
   "outputs": [
    {
     "data": {
      "text/html": [
       "<div>\n",
       "<style scoped>\n",
       "    .dataframe tbody tr th:only-of-type {\n",
       "        vertical-align: middle;\n",
       "    }\n",
       "\n",
       "    .dataframe tbody tr th {\n",
       "        vertical-align: top;\n",
       "    }\n",
       "\n",
       "    .dataframe thead th {\n",
       "        text-align: right;\n",
       "    }\n",
       "</style>\n",
       "<table border=\"1\" class=\"dataframe\">\n",
       "  <thead>\n",
       "    <tr style=\"text-align: right;\">\n",
       "      <th></th>\n",
       "      <th>SepalLengthCm</th>\n",
       "      <th>SepalWidthCm</th>\n",
       "      <th>PetalLengthCm</th>\n",
       "      <th>PetalWidthCm</th>\n",
       "    </tr>\n",
       "  </thead>\n",
       "  <tbody>\n",
       "    <tr>\n",
       "      <th>0</th>\n",
       "      <td>5.1</td>\n",
       "      <td>3.5</td>\n",
       "      <td>1.4</td>\n",
       "      <td>0.2</td>\n",
       "    </tr>\n",
       "    <tr>\n",
       "      <th>1</th>\n",
       "      <td>4.9</td>\n",
       "      <td>3.0</td>\n",
       "      <td>1.4</td>\n",
       "      <td>0.2</td>\n",
       "    </tr>\n",
       "    <tr>\n",
       "      <th>2</th>\n",
       "      <td>4.7</td>\n",
       "      <td>3.2</td>\n",
       "      <td>1.3</td>\n",
       "      <td>0.2</td>\n",
       "    </tr>\n",
       "    <tr>\n",
       "      <th>3</th>\n",
       "      <td>4.6</td>\n",
       "      <td>3.1</td>\n",
       "      <td>1.5</td>\n",
       "      <td>0.2</td>\n",
       "    </tr>\n",
       "    <tr>\n",
       "      <th>4</th>\n",
       "      <td>5.0</td>\n",
       "      <td>3.6</td>\n",
       "      <td>1.4</td>\n",
       "      <td>0.2</td>\n",
       "    </tr>\n",
       "  </tbody>\n",
       "</table>\n",
       "</div>"
      ],
      "text/plain": [
       "   SepalLengthCm  SepalWidthCm  PetalLengthCm  PetalWidthCm\n",
       "0            5.1           3.5            1.4           0.2\n",
       "1            4.9           3.0            1.4           0.2\n",
       "2            4.7           3.2            1.3           0.2\n",
       "3            4.6           3.1            1.5           0.2\n",
       "4            5.0           3.6            1.4           0.2"
      ]
     },
     "execution_count": 2,
     "metadata": {},
     "output_type": "execute_result"
    }
   ],
   "source": [
    "# Read the Iris dataset\n",
    "data = pd.read_csv('iris.csv')\n",
    "\n",
    "# Remove unnecessary columns for clustering (e.g., 'Id' and 'Species')\n",
    "data.drop('Id', axis=1, inplace=True)\n",
    "data.drop('Species', axis=1, inplace=True)\n",
    "\n",
    "# Display the first few rows of the dataset\n",
    "data.head()"
   ]
  },
  {
   "cell_type": "code",
   "execution_count": 3,
   "id": "e818cca7e9398111",
   "metadata": {
    "ExecuteTime": {
     "end_time": "2024-03-04T08:03:17.026472Z",
     "start_time": "2024-03-04T08:03:17.022905Z"
    },
    "collapsed": false
   },
   "outputs": [
    {
     "name": "stdout",
     "output_type": "stream",
     "text": [
      "(4.3, 7.9) (2.0, 4.4) (1.0, 6.9) (0.1, 2.5)\n"
     ]
    }
   ],
   "source": [
    "# Determine the range of each feature (SepalLengthCm, SepalWidthCm, PetalLengthCm, PetalWidthCm)\n",
    "range_sl = data['SepalLengthCm'].min(), data['SepalLengthCm'].max()\n",
    "range_sw = data['SepalWidthCm'].min(), data['SepalWidthCm'].max()\n",
    "range_pl = data['PetalLengthCm'].min(), data['PetalLengthCm'].max()\n",
    "range_pw = data['PetalWidthCm'].min(), data['PetalWidthCm'].max()\n",
    "\n",
    "print(range_sl, range_sw, range_pl, range_pw)"
   ]
  },
  {
   "cell_type": "code",
   "execution_count": 4,
   "id": "6d3dae5e6112390e",
   "metadata": {
    "ExecuteTime": {
     "end_time": "2024-03-04T08:03:17.031913Z",
     "start_time": "2024-03-04T08:03:17.027123Z"
    },
    "collapsed": false
   },
   "outputs": [
    {
     "data": {
      "text/html": [
       "<div>\n",
       "<style scoped>\n",
       "    .dataframe tbody tr th:only-of-type {\n",
       "        vertical-align: middle;\n",
       "    }\n",
       "\n",
       "    .dataframe tbody tr th {\n",
       "        vertical-align: top;\n",
       "    }\n",
       "\n",
       "    .dataframe thead th {\n",
       "        text-align: right;\n",
       "    }\n",
       "</style>\n",
       "<table border=\"1\" class=\"dataframe\">\n",
       "  <thead>\n",
       "    <tr style=\"text-align: right;\">\n",
       "      <th></th>\n",
       "      <th>SepalLengthCm</th>\n",
       "      <th>SepalWidthCm</th>\n",
       "      <th>PetalLengthCm</th>\n",
       "      <th>PetalWidthCm</th>\n",
       "    </tr>\n",
       "  </thead>\n",
       "  <tbody>\n",
       "    <tr>\n",
       "      <th>0</th>\n",
       "      <td>4.8</td>\n",
       "      <td>3.4</td>\n",
       "      <td>1.9</td>\n",
       "      <td>0.2</td>\n",
       "    </tr>\n",
       "    <tr>\n",
       "      <th>1</th>\n",
       "      <td>5.5</td>\n",
       "      <td>4.2</td>\n",
       "      <td>1.4</td>\n",
       "      <td>0.2</td>\n",
       "    </tr>\n",
       "    <tr>\n",
       "      <th>2</th>\n",
       "      <td>5.8</td>\n",
       "      <td>2.8</td>\n",
       "      <td>5.1</td>\n",
       "      <td>2.4</td>\n",
       "    </tr>\n",
       "  </tbody>\n",
       "</table>\n",
       "</div>"
      ],
      "text/plain": [
       "   SepalLengthCm  SepalWidthCm  PetalLengthCm  PetalWidthCm\n",
       "0            4.8           3.4            1.9           0.2\n",
       "1            5.5           4.2            1.4           0.2\n",
       "2            5.8           2.8            5.1           2.4"
      ]
     },
     "execution_count": 4,
     "metadata": {},
     "output_type": "execute_result"
    }
   ],
   "source": [
    "# Function to randomly select initial centroids\n",
    "def select_random_points(df, n):\n",
    "    sample = df.sample(n)\n",
    "    sample.index = range(n)\n",
    "    return sample\n",
    "\n",
    "# Test the select_random_points function by selecting 3 random points\n",
    "select_random_points(data, 3)"
   ]
  },
  {
   "cell_type": "code",
   "execution_count": 5,
   "id": "f1fae6925ed09b80",
   "metadata": {
    "ExecuteTime": {
     "end_time": "2024-03-04T08:03:17.038273Z",
     "start_time": "2024-03-04T08:03:17.033419Z"
    },
    "collapsed": false
   },
   "outputs": [
    {
     "data": {
      "text/plain": [
       "0.5385164807134502"
      ]
     },
     "execution_count": 5,
     "metadata": {},
     "output_type": "execute_result"
    }
   ],
   "source": [
    "# Function to calculate Euclidean distance between two points\n",
    "def distance(p1, p2):\n",
    "    \"\"\"\n",
    "    Calculate the Euclidean distance between two data points.\n",
    "\n",
    "    Parameters:\n",
    "    p1 (Series): Pandas Series representing the first data point.\n",
    "    p2 (Series): Pandas Series representing the second data point.\n",
    "\n",
    "    Returns:\n",
    "    float: The Euclidean distance between the two data points.\n",
    "    \"\"\"\n",
    "    # Calculate the differences between corresponding feature values\n",
    "    sl_diff = p1['SepalLengthCm'] - p2['SepalLengthCm']\n",
    "    sw_diff = p1['SepalWidthCm'] - p2['SepalWidthCm']\n",
    "    pl_diff = p1['PetalLengthCm'] - p2['PetalLengthCm']\n",
    "    pw_diff = p1['PetalWidthCm'] - p2['PetalWidthCm']\n",
    "    \n",
    "    # Calculate the Euclidean distance using the differences\n",
    "    distance = np.sqrt(sl_diff**2 + sw_diff**2 + pl_diff**2 + pw_diff**2)\n",
    "    \n",
    "    return distance\n",
    "\n",
    "# Test the distance function by calculating the distance between two points\n",
    "p1 = data.iloc[0]\n",
    "p2 = data.iloc[1]\n",
    "distance(p1, p2)"
   ]
  },
  {
   "cell_type": "code",
   "execution_count": 7,
   "id": "bac73951262a1fa2",
   "metadata": {
    "ExecuteTime": {
     "end_time": "2024-03-04T08:03:17.070248Z",
     "start_time": "2024-03-04T08:03:17.039382Z"
    },
    "collapsed": false
   },
   "outputs": [
    {
     "data": {
      "text/plain": [
       "dict_keys([0, 1, 2])"
      ]
     },
     "execution_count": 7,
     "metadata": {},
     "output_type": "execute_result"
    }
   ],
   "source": [
    "# Function to assign data points to the nearest centroid\n",
    "def assign_points_to_clusters(df, centroids):\n",
    "    \"\"\"\n",
    "    Assign each data point to the nearest centroid.\n",
    "\n",
    "    Parameters:\n",
    "    df (DataFrame): Pandas DataFrame containing the dataset.\n",
    "    centroids (DataFrame): Pandas DataFrame containing the centroids.\n",
    "\n",
    "    Returns:\n",
    "    dict: A dictionary where keys represent cluster IDs and values are lists of indices\n",
    "          corresponding to data points assigned to each cluster.\n",
    "    \"\"\"\n",
    "    # Initialize an empty dictionary to store clusters\n",
    "    clusters = {}\n",
    "    for i in range(len(centroids)):\n",
    "        clusters[i] = []  # Initialize an empty list for each cluster\n",
    "    \n",
    "    # Iterate over each data point in the dataset\n",
    "    for index, row in df.iterrows():\n",
    "        min_dist = float('inf')  # Set initial minimum distance to infinity\n",
    "        closest_centroid = None  # Initialize closest centroid as None\n",
    "        \n",
    "        # Iterate over each centroid to find the closest one to the current data point\n",
    "        for j, centroid in centroids.iterrows():\n",
    "            # Calculate the distance between the current data point and the centroid\n",
    "            d = distance(row, centroid)\n",
    "            \n",
    "            # Update the minimum distance and closest centroid if a closer one is found\n",
    "            if d < min_dist:\n",
    "                min_dist = d\n",
    "                closest_centroid = j\n",
    "        \n",
    "        # Append the index of the data point to the cluster of the closest centroid\n",
    "        clusters[closest_centroid].append(index)\n",
    "    \n",
    "    return clusters\n",
    "\n",
    "# Test the assign_points_to_clusters function by assigning points to the closest centroids\n",
    "centroids = select_random_points(data, 3)\n",
    "clusters = assign_points_to_clusters(data, centroids)\n",
    "clusters.keys()"
   ]
  },
  {
   "cell_type": "code",
   "execution_count": 8,
   "id": "d37d51f9fb97df98",
   "metadata": {
    "ExecuteTime": {
     "end_time": "2024-03-04T08:03:17.083564Z",
     "start_time": "2024-03-04T08:03:17.071751Z"
    },
    "collapsed": false
   },
   "outputs": [
    {
     "data": {
      "text/html": [
       "<div>\n",
       "<style scoped>\n",
       "    .dataframe tbody tr th:only-of-type {\n",
       "        vertical-align: middle;\n",
       "    }\n",
       "\n",
       "    .dataframe tbody tr th {\n",
       "        vertical-align: top;\n",
       "    }\n",
       "\n",
       "    .dataframe thead th {\n",
       "        text-align: right;\n",
       "    }\n",
       "</style>\n",
       "<table border=\"1\" class=\"dataframe\">\n",
       "  <thead>\n",
       "    <tr style=\"text-align: right;\">\n",
       "      <th></th>\n",
       "      <th>SepalLengthCm</th>\n",
       "      <th>SepalWidthCm</th>\n",
       "      <th>PetalLengthCm</th>\n",
       "      <th>PetalWidthCm</th>\n",
       "    </tr>\n",
       "  </thead>\n",
       "  <tbody>\n",
       "    <tr>\n",
       "      <th>0</th>\n",
       "      <td>6.346739</td>\n",
       "      <td>2.909783</td>\n",
       "      <td>5.031522</td>\n",
       "      <td>1.729348</td>\n",
       "    </tr>\n",
       "    <tr>\n",
       "      <th>1</th>\n",
       "      <td>5.275000</td>\n",
       "      <td>3.843750</td>\n",
       "      <td>1.487500</td>\n",
       "      <td>0.293750</td>\n",
       "    </tr>\n",
       "    <tr>\n",
       "      <th>2</th>\n",
       "      <td>4.957143</td>\n",
       "      <td>3.069048</td>\n",
       "      <td>1.835714</td>\n",
       "      <td>0.380952</td>\n",
       "    </tr>\n",
       "  </tbody>\n",
       "</table>\n",
       "</div>"
      ],
      "text/plain": [
       "   SepalLengthCm  SepalWidthCm  PetalLengthCm  PetalWidthCm\n",
       "0       6.346739      2.909783       5.031522      1.729348\n",
       "1       5.275000      3.843750       1.487500      0.293750\n",
       "2       4.957143      3.069048       1.835714      0.380952"
      ]
     },
     "execution_count": 8,
     "metadata": {},
     "output_type": "execute_result"
    }
   ],
   "source": [
    "# Function to update centroids based on assigned points\n",
    "def update_centroids(df, clusters):\n",
    "    \"\"\"\n",
    "    Update centroids based on assigned data points.\n",
    "\n",
    "    Parameters:\n",
    "    df (DataFrame): Pandas DataFrame containing the dataset.\n",
    "    clusters (dict): A dictionary where keys represent cluster IDs and values are lists of indices\n",
    "                     corresponding to data points assigned to each cluster.\n",
    "\n",
    "    Returns:\n",
    "    DataFrame: Pandas DataFrame containing the updated centroids.\n",
    "    \"\"\"\n",
    "    new_centroids = []  # Initialize a list to store the updated centroids\n",
    "    \n",
    "    # Iterate over each cluster and its assigned data points\n",
    "    for i, indices in clusters.items():\n",
    "        if indices:  # Check if there are data points assigned to the cluster\n",
    "            # Calculate the mean of data points assigned to the cluster to get the new centroid\n",
    "            new_centroid = df.loc[indices].mean()\n",
    "        else:\n",
    "            new_centroid = df.iloc[i]  # If no points assigned to cluster, keep the old centroid\n",
    "        \n",
    "        new_centroids.append(new_centroid)  # Append the new centroid to the list of updated centroids\n",
    "    \n",
    "    return pd.DataFrame(new_centroids)\n",
    "\n",
    "# Test the update_centroids function by updating centroids based on assigned points\n",
    "new_centroids = update_centroids(data, clusters)\n",
    "new_centroids"
   ]
  },
  {
   "cell_type": "code",
   "execution_count": 9,
   "id": "321fe30325292c2d",
   "metadata": {
    "ExecuteTime": {
     "end_time": "2024-03-04T08:03:17.088085Z",
     "start_time": "2024-03-04T08:03:17.084598Z"
    },
    "collapsed": false
   },
   "outputs": [],
   "source": [
    "def k_means(df, k, max_iter=1000):\n",
    "    \"\"\"\n",
    "    Perform k-means clustering on the dataset.\n",
    "\n",
    "    Parameters:\n",
    "    df (DataFrame): Pandas DataFrame containing the dataset.\n",
    "    k (int): Number of clusters to form.\n",
    "    max_iter (int): Maximum number of iterations for the algorithm.\n",
    "\n",
    "    Returns:\n",
    "    tuple: A tuple containing two elements:\n",
    "           - A dictionary where keys represent cluster IDs and values are lists of indices\n",
    "             corresponding to data points assigned to each cluster.\n",
    "           - Pandas DataFrame containing the final centroids.\n",
    "    \"\"\"\n",
    "    centroids = select_random_points(df, k)  # Initialize centroids by randomly selecting k points from the dataset\n",
    "\n",
    "    for _ in range(max_iter):\n",
    "        clusters = assign_points_to_clusters(df, centroids)  # Assign data points to the nearest centroids\n",
    "        new_centroids = update_centroids(df, clusters)  # Update centroids based on assigned data points\n",
    "\n",
    "        # Check for convergence: if centroids remain unchanged, stop iterating\n",
    "        if (centroids == new_centroids).all().all():\n",
    "            break\n",
    "\n",
    "        centroids = new_centroids  # Update centroids for the next iteration\n",
    "\n",
    "    return clusters, centroids  # Return the assigned clusters and the final centroids"
   ]
  },
  {
   "cell_type": "code",
   "execution_count": 10,
   "id": "e36e2d24184ba60a",
   "metadata": {
    "ExecuteTime": {
     "end_time": "2024-03-04T08:03:17.259040Z",
     "start_time": "2024-03-04T08:03:17.088944Z"
    },
    "collapsed": false
   },
   "outputs": [],
   "source": [
    "# Perform k-means clustering on the Iris dataset with k=3\n",
    "clusters, centroids = k_means(data, 3)"
   ]
  },
  {
   "cell_type": "code",
   "execution_count": 11,
   "id": "608a52f850d82105",
   "metadata": {
    "ExecuteTime": {
     "end_time": "2024-03-04T08:03:17.265462Z",
     "start_time": "2024-03-04T08:03:17.259987Z"
    },
    "collapsed": false
   },
   "outputs": [
    {
     "data": {
      "text/html": [
       "<div>\n",
       "<style scoped>\n",
       "    .dataframe tbody tr th:only-of-type {\n",
       "        vertical-align: middle;\n",
       "    }\n",
       "\n",
       "    .dataframe tbody tr th {\n",
       "        vertical-align: top;\n",
       "    }\n",
       "\n",
       "    .dataframe thead th {\n",
       "        text-align: right;\n",
       "    }\n",
       "</style>\n",
       "<table border=\"1\" class=\"dataframe\">\n",
       "  <thead>\n",
       "    <tr style=\"text-align: right;\">\n",
       "      <th></th>\n",
       "      <th>SepalLengthCm</th>\n",
       "      <th>SepalWidthCm</th>\n",
       "      <th>PetalLengthCm</th>\n",
       "      <th>PetalWidthCm</th>\n",
       "    </tr>\n",
       "  </thead>\n",
       "  <tbody>\n",
       "    <tr>\n",
       "      <th>0</th>\n",
       "      <td>5.006000</td>\n",
       "      <td>3.418000</td>\n",
       "      <td>1.464000</td>\n",
       "      <td>0.244000</td>\n",
       "    </tr>\n",
       "    <tr>\n",
       "      <th>1</th>\n",
       "      <td>6.850000</td>\n",
       "      <td>3.073684</td>\n",
       "      <td>5.742105</td>\n",
       "      <td>2.071053</td>\n",
       "    </tr>\n",
       "    <tr>\n",
       "      <th>2</th>\n",
       "      <td>5.901613</td>\n",
       "      <td>2.748387</td>\n",
       "      <td>4.393548</td>\n",
       "      <td>1.433871</td>\n",
       "    </tr>\n",
       "  </tbody>\n",
       "</table>\n",
       "</div>"
      ],
      "text/plain": [
       "   SepalLengthCm  SepalWidthCm  PetalLengthCm  PetalWidthCm\n",
       "0       5.006000      3.418000       1.464000      0.244000\n",
       "1       6.850000      3.073684       5.742105      2.071053\n",
       "2       5.901613      2.748387       4.393548      1.433871"
      ]
     },
     "execution_count": 11,
     "metadata": {},
     "output_type": "execute_result"
    }
   ],
   "source": [
    "# Display the final centroids\n",
    "centroids"
   ]
  },
  {
   "cell_type": "code",
   "execution_count": 12,
   "id": "74a69ff7de471470",
   "metadata": {
    "ExecuteTime": {
     "end_time": "2024-03-04T08:03:17.272775Z",
     "start_time": "2024-03-04T08:03:17.266415Z"
    },
    "collapsed": false
   },
   "outputs": [],
   "source": [
    "# Save clustered data to CSV\n",
    "# Add a 'Cluster' column to the original dataset\n",
    "clustered_data = data.copy()\n",
    "clustered_data['Cluster'] = -1\n",
    "# Assign each data point to its corresponding cluster\n",
    "for cluster, indices in clusters.items():\n",
    "    clustered_data.loc[indices, 'Cluster'] = cluster\n",
    "# Save the clustered data to a CSV file\n",
    "clustered_data.to_csv('clustered_iris.csv', index=False)"
   ]
  },
  {
   "cell_type": "code",
   "execution_count": 13,
   "id": "d0a9136249291b9f",
   "metadata": {
    "ExecuteTime": {
     "end_time": "2024-03-04T08:03:17.279997Z",
     "start_time": "2024-03-04T08:03:17.273671Z"
    },
    "collapsed": false
   },
   "outputs": [
    {
     "data": {
      "text/html": [
       "<div>\n",
       "<style scoped>\n",
       "    .dataframe tbody tr th:only-of-type {\n",
       "        vertical-align: middle;\n",
       "    }\n",
       "\n",
       "    .dataframe tbody tr th {\n",
       "        vertical-align: top;\n",
       "    }\n",
       "\n",
       "    .dataframe thead th {\n",
       "        text-align: right;\n",
       "    }\n",
       "</style>\n",
       "<table border=\"1\" class=\"dataframe\">\n",
       "  <thead>\n",
       "    <tr style=\"text-align: right;\">\n",
       "      <th></th>\n",
       "      <th>SepalLengthCm</th>\n",
       "      <th>SepalWidthCm</th>\n",
       "      <th>PetalLengthCm</th>\n",
       "      <th>PetalWidthCm</th>\n",
       "      <th>Cluster</th>\n",
       "    </tr>\n",
       "  </thead>\n",
       "  <tbody>\n",
       "    <tr>\n",
       "      <th>0</th>\n",
       "      <td>5.1</td>\n",
       "      <td>3.5</td>\n",
       "      <td>1.4</td>\n",
       "      <td>0.2</td>\n",
       "      <td>0</td>\n",
       "    </tr>\n",
       "    <tr>\n",
       "      <th>1</th>\n",
       "      <td>4.9</td>\n",
       "      <td>3.0</td>\n",
       "      <td>1.4</td>\n",
       "      <td>0.2</td>\n",
       "      <td>0</td>\n",
       "    </tr>\n",
       "    <tr>\n",
       "      <th>2</th>\n",
       "      <td>4.7</td>\n",
       "      <td>3.2</td>\n",
       "      <td>1.3</td>\n",
       "      <td>0.2</td>\n",
       "      <td>0</td>\n",
       "    </tr>\n",
       "    <tr>\n",
       "      <th>3</th>\n",
       "      <td>4.6</td>\n",
       "      <td>3.1</td>\n",
       "      <td>1.5</td>\n",
       "      <td>0.2</td>\n",
       "      <td>0</td>\n",
       "    </tr>\n",
       "    <tr>\n",
       "      <th>4</th>\n",
       "      <td>5.0</td>\n",
       "      <td>3.6</td>\n",
       "      <td>1.4</td>\n",
       "      <td>0.2</td>\n",
       "      <td>0</td>\n",
       "    </tr>\n",
       "  </tbody>\n",
       "</table>\n",
       "</div>"
      ],
      "text/plain": [
       "   SepalLengthCm  SepalWidthCm  PetalLengthCm  PetalWidthCm  Cluster\n",
       "0            5.1           3.5            1.4           0.2        0\n",
       "1            4.9           3.0            1.4           0.2        0\n",
       "2            4.7           3.2            1.3           0.2        0\n",
       "3            4.6           3.1            1.5           0.2        0\n",
       "4            5.0           3.6            1.4           0.2        0"
      ]
     },
     "execution_count": 13,
     "metadata": {},
     "output_type": "execute_result"
    }
   ],
   "source": [
    "# Display the first few rows of the clustered data\n",
    "clustered_data.head()"
   ]
  },
  {
   "cell_type": "code",
   "execution_count": 12,
   "id": "195c673725fac2cc",
   "metadata": {
    "ExecuteTime": {
     "end_time": "2024-03-04T08:03:17.282807Z",
     "start_time": "2024-03-04T08:03:17.281109Z"
    },
    "collapsed": false
   },
   "outputs": [],
   "source": []
  }
 ],
 "metadata": {
  "kernelspec": {
   "display_name": "Python 3",
   "language": "python",
   "name": "python3"
  },
  "language_info": {
   "codemirror_mode": {
    "name": "ipython",
    "version": 3
   },
   "file_extension": ".py",
   "mimetype": "text/x-python",
   "name": "python",
   "nbconvert_exporter": "python",
   "pygments_lexer": "ipython3",
   "version": "3.9.1"
  }
 },
 "nbformat": 4,
 "nbformat_minor": 5
}
